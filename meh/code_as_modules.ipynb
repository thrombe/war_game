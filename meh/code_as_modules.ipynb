{
 "cells": [
  {
   "cell_type": "code",
   "execution_count": 1,
   "metadata": {},
   "outputs": [],
   "source": [
    "# !mkdir src\n",
    "# %cd src"
   ]
  },
  {
   "cell_type": "code",
   "execution_count": 2,
   "metadata": {},
   "outputs": [
    {
     "name": "stdout",
     "output_type": "stream",
     "text": [
      "Writing card.py\n"
     ]
    }
   ],
   "source": [
    "%%writefile card.py\n",
    "\n",
    "import enum\n",
    "import functools\n",
    "from typing import Iterable\n",
    "\n",
    "\n",
    "class Color(enum.Enum):\n",
    "    Black = 0\n",
    "    Red = 1\n",
    "\n",
    "# Rank/Value\n",
    "class Rank(enum.Enum):\n",
    "    Ace = 14\n",
    "    King = 13\n",
    "    Queen = 12\n",
    "    Jack = 11\n",
    "    No10 = 10\n",
    "    No9 = 9\n",
    "    No8 = 8\n",
    "    No7 = 7\n",
    "    No6 = 6\n",
    "    No5 = 5\n",
    "    No4 = 4\n",
    "    No3 = 3\n",
    "    No2 = 2\n",
    "\n",
    "class Suit(enum.Enum):\n",
    "    Hearts = 0\n",
    "    Diamonds = 1\n",
    "    Clubs = 2\n",
    "    Spades = 3\n",
    "\n",
    "@functools.total_ordering\n",
    "class Card:\n",
    "    def __init__(self, suit: Suit, rank: Rank):\n",
    "        self.suit = suit\n",
    "        self.rank = rank\n",
    "        if suit == Suit.Hearts or suit == Suit.Diamonds:\n",
    "            self.color = Color.Red\n",
    "        else:\n",
    "            self.color = Color.Black\n",
    "    \n",
    "    def __str__(self) -> str:\n",
    "        return f\"{{ suit: {self.suit.name}, color: {self.color.name}, rank: {self.rank.name} }}\"\n",
    "\n",
    "    def __lt__(self, other):\n",
    "        return self.rank.value < other.rank.value\n",
    "\n",
    "    def __eq__(self, other):\n",
    "        return self.rank.value == other.rank.value\n"
   ]
  },
  {
   "cell_type": "code",
   "execution_count": 3,
   "metadata": {},
   "outputs": [
    {
     "name": "stdout",
     "output_type": "stream",
     "text": [
      "Writing deck.py\n"
     ]
    }
   ],
   "source": [
    "%%writefile deck.py\n",
    "\n",
    "\n",
    "import random\n",
    "from typing import Iterable\n",
    "\n",
    "from card import Card, Suit, Rank\n",
    "\n",
    "class Deck:\n",
    "    def __init__(self, cards: list[Card]):\n",
    "        '''assuming the card faces are downwards, and the last card is on the top of the deck'''\n",
    "        self.__cards = cards\n",
    "\n",
    "    @classmethod\n",
    "    def new(cls):\n",
    "        cards = []\n",
    "        for suit in Suit:\n",
    "            for rank in Rank:\n",
    "                card = Card(suit, rank)\n",
    "                cards.append(card)\n",
    "        return cls(cards)\n",
    "    \n",
    "    def __str__(self) -> str:\n",
    "        string = \"[ \\n\"\n",
    "        for card in self.__cards:\n",
    "            string += f\"    {card} \\n\"\n",
    "        string += \"]\"\n",
    "        return string\n",
    "\n",
    "    def split(self, number: int):\n",
    "        '''returns an iterable of Deck with first deck with possibly more cards than the ones that follow it'''\n",
    "        total = len(self.__cards)\n",
    "        num = total//number\n",
    "        cards = self.__cards\n",
    "        yield Deck(cards[ : num + total - num*number])\n",
    "        cards = cards[num + total - num*number : ]\n",
    "        for _ in range(number-1):\n",
    "            yield Deck(cards[:num])\n",
    "            cards = cards[num:]\n",
    "\n",
    "    def shuffle(self):\n",
    "        random.shuffle(self.__cards)\n",
    "\n",
    "    def add_to_bottom(self, cards: Iterable[Card]):\n",
    "        cards = list(cards)\n",
    "        cards.extend(self.__cards)\n",
    "        self.__cards = cards\n",
    "    \n",
    "    def add_to_top(self, cards: Iterable[Card]):\n",
    "        for card in cards:\n",
    "            self.__cards.append(card)\n",
    "\n",
    "    def pop(self) -> Card | None:\n",
    "        if len(self.__cards) > 0:\n",
    "            return self.__cards.pop()\n",
    "        else:\n",
    "            return None\n",
    "    \n",
    "    def is_empty(self):\n",
    "        return len(self.__cards) == 0\n",
    "    \n",
    "    def num_cards(self):\n",
    "        return len(self.__cards)"
   ]
  },
  {
   "cell_type": "code",
   "execution_count": 4,
   "metadata": {},
   "outputs": [
    {
     "name": "stdout",
     "output_type": "stream",
     "text": [
      "Writing game.py\n"
     ]
    }
   ],
   "source": [
    "%%writefile game.py\n",
    "\n",
    "\n",
    "import random\n",
    "\n",
    "from deck import Deck\n",
    "\n",
    "def simulate_game() -> (Deck, Deck, Deck, int):\n",
    "    full_deck = Deck.new()\n",
    "    full_deck.shuffle()\n",
    "    player1, player2 = full_deck.split(2)\n",
    "\n",
    "    turns = 0\n",
    "    while (not player1.is_empty()) and (not player2.is_empty()):\n",
    "        turns += 1\n",
    "\n",
    "        card1 = player1.pop()\n",
    "        card2 = player2.pop()\n",
    "        cards = [card1, card2]\n",
    "\n",
    "        # problem statement does not provide any ordering for\n",
    "        # the cards, so randomising it\n",
    "        random.shuffle(cards)\n",
    "\n",
    "        if card1 > card2:\n",
    "            player1.add_to_bottom(cards)\n",
    "        elif card2 > card1:\n",
    "            player2.add_to_bottom(cards)\n",
    "    \n",
    "    return full_deck, player1, player2, turns\n",
    "\n",
    "def gather_data(n = 1000):\n",
    "    turn_freqs = {}\n",
    "    num_cards_left_freq = {}\n",
    "\n",
    "    for _ in range(n):\n",
    "        _, p1, p2, turns = simulate_game()\n",
    "        turn_freqs.setdefault(turns, 0)\n",
    "        turn_freqs[turns] += 1\n",
    "        \n",
    "        num_cards = p1.num_cards() + p2.num_cards()\n",
    "        num_cards_left_freq.setdefault(num_cards, 0)\n",
    "        num_cards_left_freq[num_cards] += 1\n",
    "\n",
    "    return turn_freqs, num_cards_left_freq\n"
   ]
  },
  {
   "cell_type": "code",
   "execution_count": 5,
   "metadata": {},
   "outputs": [
    {
     "name": "stdout",
     "output_type": "stream",
     "text": [
      "Writing main.py\n"
     ]
    }
   ],
   "source": [
    "%%writefile main.py\n",
    "\n",
    "\n",
    "from game import *\n",
    "\n",
    "def run_game_once():\n",
    "    _, player1, player2, turns = simulate_game()\n",
    "\n",
    "    if player1.is_empty() and player2.is_empty():\n",
    "        print(\"the game ended in a Tie\")\n",
    "    elif player1.is_empty():\n",
    "        print(\"Player 2 wins\")\n",
    "    else:\n",
    "        print(\"Player 1 wins\")\n",
    "    \n",
    "    print(f\"game lasted {turns} turns\")\n",
    "    # print(player1)\n",
    "    # print(player2)\n"
   ]
  },
  {
   "cell_type": "code",
   "execution_count": 6,
   "metadata": {},
   "outputs": [],
   "source": [
    "from card import *\n",
    "from deck import *\n",
    "import game\n",
    "import main"
   ]
  },
  {
   "cell_type": "code",
   "execution_count": 7,
   "metadata": {},
   "outputs": [
    {
     "name": "stdout",
     "output_type": "stream",
     "text": [
      "Player 2 wins\n",
      "game lasted 242 turns\n"
     ]
    }
   ],
   "source": [
    "main.run_game_once()"
   ]
  },
  {
   "cell_type": "code",
   "execution_count": 8,
   "metadata": {},
   "outputs": [
    {
     "name": "stdout",
     "output_type": "stream",
     "text": [
      "[ \n",
      "    { suit: Diamonds, color: Red, rank: No7 } \n",
      "    { suit: Hearts, color: Red, rank: No2 } \n",
      "    { suit: Diamonds, color: Red, rank: No8 } \n",
      "    { suit: Diamonds, color: Red, rank: No2 } \n",
      "    { suit: Spades, color: Black, rank: Jack } \n",
      "    { suit: Diamonds, color: Red, rank: King } \n",
      "    { suit: Clubs, color: Black, rank: Queen } \n",
      "    { suit: Hearts, color: Red, rank: No9 } \n",
      "    { suit: Diamonds, color: Red, rank: No10 } \n",
      "    { suit: Diamonds, color: Red, rank: No6 } \n",
      "    { suit: Diamonds, color: Red, rank: Queen } \n",
      "    { suit: Spades, color: Black, rank: No5 } \n",
      "    { suit: Hearts, color: Red, rank: King } \n",
      "    { suit: Spades, color: Black, rank: No3 } \n",
      "    { suit: Spades, color: Black, rank: No8 } \n",
      "    { suit: Hearts, color: Red, rank: No4 } \n",
      "    { suit: Spades, color: Black, rank: No4 } \n",
      "    { suit: Clubs, color: Black, rank: No6 } \n",
      "    { suit: Clubs, color: Black, rank: No5 } \n",
      "    { suit: Clubs, color: Black, rank: No8 } \n",
      "    { suit: Clubs, color: Black, rank: No7 } \n",
      "    { suit: Diamonds, color: Red, rank: No5 } \n",
      "    { suit: Clubs, color: Black, rank: No9 } \n",
      "    { suit: Diamonds, color: Red, rank: No3 } \n",
      "    { suit: Hearts, color: Red, rank: No10 } \n",
      "    { suit: Hearts, color: Red, rank: Jack } \n",
      "    { suit: Hearts, color: Red, rank: No8 } \n",
      "    { suit: Hearts, color: Red, rank: No5 } \n",
      "] [ \n",
      "]\n"
     ]
    }
   ],
   "source": [
    "_, p1, p2, _ = game.simulate_game()\n",
    "print(p1, p2)"
   ]
  },
  {
   "cell_type": "code",
   "execution_count": 9,
   "metadata": {},
   "outputs": [],
   "source": [
    "turn_freqs, num_cards_left_freq = game.gather_data(10000)"
   ]
  },
  {
   "cell_type": "code",
   "execution_count": 10,
   "metadata": {},
   "outputs": [],
   "source": [
    "import matplotlib.pyplot as plt"
   ]
  },
  {
   "cell_type": "code",
   "execution_count": 11,
   "metadata": {},
   "outputs": [
    {
     "data": {
      "image/png": "[encoded data removed]",
      "text/plain": [
       "<Figure size 640x480 with 1 Axes>"
      ]
     },
     "metadata": {},
     "output_type": "display_data"
    }
   ],
   "source": [
    "turn_freqs_sorted = sorted(turn_freqs.items(), key=lambda x: x[0])\n",
    "x = list(map(lambda x: x[0], turn_freqs_sorted))\n",
    "y = list(map(lambda x: x[1], turn_freqs_sorted))\n",
    "plt.plot(x, y)\n",
    "plt.show()"
   ]
  },
  {
   "cell_type": "code",
   "execution_count": 12,
   "metadata": {},
   "outputs": [
    {
     "data": {
      "image/png": "[encoded data removed]",
      "text/plain": [
       "<Figure size 640x480 with 1 Axes>"
      ]
     },
     "metadata": {},
     "output_type": "display_data"
    }
   ],
   "source": [
    "num_cards_left_freq_sorted = sorted(num_cards_left_freq.items(), key=lambda x: x[0])\n",
    "x = list(map(lambda x: x[0], num_cards_left_freq_sorted))\n",
    "y = list(map(lambda x: x[1], num_cards_left_freq_sorted))\n",
    "plt.plot(x, y)\n",
    "plt.show()"
   ]
  },
  {
   "cell_type": "code",
   "execution_count": null,
   "metadata": {},
   "outputs": [],
   "source": []
  }
 ],
 "metadata": {
  "kernelspec": {
   "display_name": "Python 3",
   "language": "python",
   "name": "python3"
  },
  "language_info": {
   "codemirror_mode": {
    "name": "ipython",
    "version": 3
   },
   "file_extension": ".py",
   "mimetype": "text/x-python",
   "name": "python",
   "nbconvert_exporter": "python",
   "pygments_lexer": "ipython3",
   "version": "3.10.9"
  },
  "orig_nbformat": 4,
  "vscode": {
   "interpreter": {
    "hash": "e7370f93d1d0cde622a1f8e1c04877d8463912d04d973331ad4851f04de6915a"
   }
  }
 },
 "nbformat": 4,
 "nbformat_minor": 2
}
